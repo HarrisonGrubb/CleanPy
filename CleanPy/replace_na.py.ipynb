{
 "cells": [
  {
   "cell_type": "code",
   "execution_count": null,
   "metadata": {},
   "outputs": [],
   "source": [
    "def replace_na(data, replace=’min’, ‘max’, ‘median’, ‘average’, ‘remove’, \n",
    "               diff_columns=list of replace values in order of columns):\n",
    "    \"\"\"\n",
    "\n",
    "    This function replaces na values with either the min, max, median or average \n",
    "    value or removes the rows.\n",
    "\n",
    "    Parameters\n",
    "    ----------\n",
    "    \n",
    "    data : dataframe\n",
    "        This is the dataframe that the function will use to replace NAs.\n",
    "        \n",
    "    Returns\n",
    "    -------\n",
    "    \n",
    "    A list of tuples where each NAs will be replaced by either min, max, median or average.\n",
    "    Each tuple in the list represents the indices of a NA in the dataframe. \n",
    "    \n",
    "    \n",
    "    >>> replace_na(pd.DataFrame(np.array([[0, 1], [NA, 1]])))\n",
    "    pd.DataFrame(np.array([[0, 1], [0, 1]]))\n",
    "    \n",
    "    \"\"\"\"\n",
    "    return\n"
   ]
  }
 ],
 "metadata": {
  "kernelspec": {
   "display_name": "Python 3",
   "language": "python",
   "name": "python3"
  },
  "language_info": {
   "codemirror_mode": {
    "name": "ipython",
    "version": 3
   },
   "file_extension": ".py",
   "mimetype": "text/x-python",
   "name": "python",
   "nbconvert_exporter": "python",
   "pygments_lexer": "ipython3",
   "version": "3.6.7"
  }
 },
 "nbformat": 4,
 "nbformat_minor": 2
}
