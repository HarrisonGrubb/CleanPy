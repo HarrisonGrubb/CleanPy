{
 "cells": [
  {
   "cell_type": "code",
   "execution_count": null,
   "metadata": {},
   "outputs": [],
   "source": [
    "import pytest\n",
    "import pandas as pd\n",
    "import numpy as np\n",
    "import sys\n",
    "sys.path.append(\"../CleanPy\")\n",
    "\n",
    "import CleanPy as cp\n",
    "\n",
    "# Create test data frame\n",
    "input_df = pd.DataFrame({'x': [NA, \"b\", \"c\"], 'y': [2 ,NA,NA],\n",
    "                   'z': [3.6, 8.5,NA]})\n",
    "\n",
    "# Return TypeError:\"Input is not a dataframe\" if the input is not a dataframe\n",
    "def test_correct_input():\n",
    "    assert isinstance(input_df, pd.DataFrame)\n",
    "    \n"
   ]
  }
 ],
 "metadata": {
  "kernelspec": {
   "display_name": "Python 3",
   "language": "python",
   "name": "python3"
  },
  "language_info": {
   "codemirror_mode": {
    "name": "ipython",
    "version": 3
   },
   "file_extension": ".py",
   "mimetype": "text/x-python",
   "name": "python",
   "nbconvert_exporter": "python",
   "pygments_lexer": "ipython3",
   "version": "3.6.7"
  }
 },
 "nbformat": 4,
 "nbformat_minor": 2
}
